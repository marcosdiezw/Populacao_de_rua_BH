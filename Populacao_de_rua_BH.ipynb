{
  "nbformat": 4,
  "nbformat_minor": 0,
  "metadata": {
    "colab": {
      "provenance": [],
      "collapsed_sections": [],
      "toc_visible": true,
      "authorship_tag": "ABX9TyMts8aOUaZkA9/MmTSdRk+i",
      "include_colab_link": true
    },
    "kernelspec": {
      "name": "python3",
      "display_name": "Python 3"
    },
    "language_info": {
      "name": "python"
    }
  },
  "cells": [
    {
      "cell_type": "markdown",
      "metadata": {
        "id": "view-in-github",
        "colab_type": "text"
      },
      "source": [
        "<a href=\"https://colab.research.google.com/github/marcosdiezw/Populacao_de_rua_BH/blob/main/Populacao_de_rua_BH.ipynb\" target=\"_parent\"><img src=\"https://colab.research.google.com/assets/colab-badge.svg\" alt=\"Open In Colab\"/></a>"
      ]
    },
    {
      "cell_type": "markdown",
      "source": [
        "# <font color=purple size=7> **ANALISE DOS DADOS DA POPULAÇÃO QUE MORA NAS RUAS DE BELO HORIZONTE**\n",
        "\n",
        "\n",
        "\n"
      ],
      "metadata": {
        "id": "xGBdHIOs5FEi"
      }
    },
    {
      "cell_type": "markdown",
      "source": [
        "![Logo prefeitura](https://prefeitura.pbh.gov.br/sites/default/files/estrutura-de-governo/comunicacao/2021/logo_21prancheta-1.png)"
      ],
      "metadata": {
        "id": "mHpOJoxrkMGq"
      }
    },
    {
      "cell_type": "markdown",
      "source": [
        "## **INTRODUÇÃO**\n",
        "\n",
        "---"
      ],
      "metadata": {
        "id": "rPGBdAGIBMnw"
      }
    },
    {
      "cell_type": "markdown",
      "source": [
        "_A cidade de Belo Horizonte possui uma quantidade importante de pessoas que moram na rua e que, por tanto, sofrem as implicâncias dessa situação._ <br><br>\n",
        "_Em cooperação com diversas entidades e associações públicas e privadas, a prefeitura de Belo Horizonte se propõe desenvolver um processo de ajuda e atenção integral, melhoria de qualidade de vida e reinserção na sociedade da população que mora na rua._ <br><br>\n",
        "_Com o objetivo de desenvolver um plano de trabalho com ações concretas e eficazes, segue uma descrição básica das informações coletadas no mês de setembro de 2021, e a continuação, um conjunto de perguntas estratégicas, agrupadas em tópicos de interesse especial._\n"
      ],
      "metadata": {
        "id": "8w37wc_cPQWV"
      }
    },
    {
      "cell_type": "markdown",
      "source": [
        "## **Importação de pacotes e DataFrame**"
      ],
      "metadata": {
        "id": "1to_x0dwGnXy"
      }
    },
    {
      "cell_type": "code",
      "source": [
        "# Importamos os pacotes e bibliotecas a serem utilizados na nossa análise\n",
        "import pandas as pd\n",
        "import seaborn as sns\n",
        "from sklearn.preprocessing import OrdinalEncoder\n",
        "import io\n",
        "from google.colab import files \n",
        "import matplotlib.pyplot as plt"
      ],
      "metadata": {
        "id": "w9FVbBRLG5b6"
      },
      "execution_count": null,
      "outputs": []
    },
    {
      "cell_type": "code",
      "source": [
        "# Utilizaremos a base de dados do mês de setembro de 2021, que é a última coleta de informação."
      ],
      "metadata": {
        "id": "goafUmGO2oEh"
      },
      "execution_count": null,
      "outputs": []
    },
    {
      "cell_type": "code",
      "source": [
        "# Lendo o arquivo.\n",
        "df = pd.read_csv('https://raw.githubusercontent.com/marcosdiezw/Populacao_de_rua_BH/main/Populac_rua.csv') "
      ],
      "metadata": {
        "id": "yFvxJqZPG-6R"
      },
      "execution_count": null,
      "outputs": []
    },
    {
      "cell_type": "markdown",
      "source": [
        "## Conhecimento da base de dados "
      ],
      "metadata": {
        "id": "WhI1fXF3JYH1"
      }
    },
    {
      "cell_type": "code",
      "source": [
        "# Verificando o tamanho da base de dados\n",
        "print(\"Informações Sobre o a base de dados População de rua\")\n",
        "print(\"Variáveis:\\t {}\".format(df.shape[1]))\n",
        "print(\"Entradas:\\t {}\\n\".format(df.shape[0]))\n",
        "\n",
        "\n",
        "# Identificando os tipos das variáveis\n",
        "display(df.info(12))"
      ],
      "metadata": {
        "id": "uSg740-uJaA4",
        "colab": {
          "base_uri": "https://localhost:8080/",
          "height": 486
        },
        "outputId": "64ec3c22-7ce5-4afc-c4bd-ef6eef205fd4"
      },
      "execution_count": null,
      "outputs": [
        {
          "output_type": "stream",
          "name": "stdout",
          "text": [
            "Informações Sobre o a base de dados População de rua\n",
            "Variáveis:\t 15\n",
            "Entradas:\t 8659\n",
            "\n",
            "<class 'pandas.core.frame.DataFrame'>\n",
            "RangeIndex: 8659 entries, 0 to 8658\n",
            "Data columns (total 15 columns):\n",
            " #   Column           Non-Null Count  Dtype  \n",
            "---  ------           --------------  -----  \n",
            " 0   Tempo_rua        8659 non-null   object \n",
            " 1   Contato_parente  8659 non-null   object \n",
            " 2   Data_nascimento  8659 non-null   object \n",
            " 3   Idade            8659 non-null   int64  \n",
            " 4   Sexo             8659 non-null   object \n",
            " 5   Bolsa_familia    8659 non-null   object \n",
            " 6   Pop_rua          8659 non-null   object \n",
            " 7   Grau_instrucao   8659 non-null   object \n",
            " 8   Cor_raca         8659 non-null   object \n",
            " 9   Renda_fam        8659 non-null   object \n",
            " 10  Remuneracao_ant  8625 non-null   float64\n",
            " 11  CRAS             8659 non-null   object \n",
            " 12  Regional         8659 non-null   object \n",
            " 13  Desat_cadastral  8659 non-null   object \n",
            " 14  Mes_ano          8659 non-null   object \n",
            "dtypes: float64(1), int64(1), object(13)\n",
            "memory usage: 1014.9+ KB\n"
          ]
        },
        {
          "output_type": "display_data",
          "data": {
            "text/plain": [
              "None"
            ]
          },
          "metadata": {}
        }
      ]
    },
    {
      "cell_type": "markdown",
      "source": [
        "### Dicionário de dados"
      ],
      "metadata": {
        "id": "HW6mqefn7zjU"
      }
    },
    {
      "cell_type": "markdown",
      "source": [
        "| **Nome da Variável** | **Descrição**         |\n",
        "|:--------------------:|:---------------------:| \n",
        "|Tempo_rua             |Tempo que vive na rua | \n",
        "|Contato_parente       |Contato com parentes, fora ou dentro da rua\n",
        "|Data_nascimento       |  Data de nascimento        | \n",
        "|Idade                 | \"MASCULINO\" ou \"FEMININO\"                  | \n",
        "|Bolsa_familia         | Recepção de bolsa de familia                  | \n",
        "|Pop_rua               |   **Mora na rua**= SIM   **Não mora na rua=** NAO\n",
        "|Grau_instrucao        | Nível de educação formal                |\n",
        "|Cor_raca              | Cor de pele           |\n",
        "|Renda_fam             | Faixa da renda familiar per capita| \n",
        "|Remunerac_ant         | Vale remuneraçao do mes passado | \n",
        "|CRAS                  | Centro de referência de assistencia social| \n",
        "|Regional              |  Região de Belo Horizonte                  | \n",
        "|Desat_cadastral       |Faixa de desatualização cadastral          |\n",
        "|Mes_ano               |Mês e ano de referência|"
      ],
      "metadata": {
        "id": "ED_WkgCJ752_"
      }
    },
    {
      "cell_type": "code",
      "source": [
        "# Olhada inicial à base de dados.\n",
        "\n",
        "df.head(5)"
      ],
      "metadata": {
        "id": "1bo6ya5kHOBT",
        "colab": {
          "base_uri": "https://localhost:8080/",
          "height": 478
        },
        "outputId": "7cda0896-ef01-4202-a8e5-d9ed96eb117c"
      },
      "execution_count": null,
      "outputs": [
        {
          "output_type": "execute_result",
          "data": {
            "text/plain": [
              "                Tempo_rua Contato_parente Data_nascimento  Idade       Sexo  \\\n",
              "0          Ate seis meses     Quase nunca      04/06/1986     35  MASCULINO   \n",
              "1          Ate seis meses        Todo mes      01/03/1992     29   FEMININO   \n",
              "2          Ate seis meses        Todo dia      03/04/1958     63   FEMININO   \n",
              "3  Entre cinco e dez anos           Nunca      05/02/1965     56  MASCULINO   \n",
              "4        Mais de dez anos           Nunca      25/10/1959     61  MASCULINO   \n",
              "\n",
              "  Bolsa_familia Pop_rua          Grau_instrucao Cor_raca  \\\n",
              "0           NAO     SIM        Medio incompleto    Parda   \n",
              "1           NAO     SIM           Sem instrucao    Preta   \n",
              "2           NAO     SIM  Fundamental incompleto    Parda   \n",
              "3           NAO     SIM  Fundamental incompleto    Parda   \n",
              "4           NAO     SIM           Sem instrucao    Parda   \n",
              "\n",
              "                               Renda_fam  Remuneracao_ant  \\\n",
              "0            Acima de 0.5 Salario Minimo              0.0   \n",
              "1  Entre R$178.01 ate 0.5 Salario Minimo              0.0   \n",
              "2            Acima de 0.5 Salario Minimo              0.0   \n",
              "3                            Ate R$89.00              0.0   \n",
              "4                            Ate R$89.00              0.0   \n",
              "\n",
              "                      CRAS    Regional Desat_cadastral     Mes_ano  \n",
              "0  ENDERECO FORA AREA CRAS    NORDESTE   19 a 24 Meses  01/09/2021  \n",
              "1         CRAS VILA ANTENA       OESTE    ate 12 Meses  01/09/2021  \n",
              "2  ENDERECO FORA AREA CRAS  CENTRO SUL   25 a 36 Meses  01/09/2021  \n",
              "3  ENDERECO FORA AREA CRAS  CENTRO SUL   19 a 24 Meses  01/09/2021  \n",
              "4  ENDERECO FORA AREA CRAS       LESTE   19 a 24 Meses  01/09/2021  "
            ],
            "text/html": [
              "\n",
              "  <div id=\"df-f36ac114-d960-4785-a74f-2a043e0cda38\">\n",
              "    <div class=\"colab-df-container\">\n",
              "      <div>\n",
              "<style scoped>\n",
              "    .dataframe tbody tr th:only-of-type {\n",
              "        vertical-align: middle;\n",
              "    }\n",
              "\n",
              "    .dataframe tbody tr th {\n",
              "        vertical-align: top;\n",
              "    }\n",
              "\n",
              "    .dataframe thead th {\n",
              "        text-align: right;\n",
              "    }\n",
              "</style>\n",
              "<table border=\"1\" class=\"dataframe\">\n",
              "  <thead>\n",
              "    <tr style=\"text-align: right;\">\n",
              "      <th></th>\n",
              "      <th>Tempo_rua</th>\n",
              "      <th>Contato_parente</th>\n",
              "      <th>Data_nascimento</th>\n",
              "      <th>Idade</th>\n",
              "      <th>Sexo</th>\n",
              "      <th>Bolsa_familia</th>\n",
              "      <th>Pop_rua</th>\n",
              "      <th>Grau_instrucao</th>\n",
              "      <th>Cor_raca</th>\n",
              "      <th>Renda_fam</th>\n",
              "      <th>Remuneracao_ant</th>\n",
              "      <th>CRAS</th>\n",
              "      <th>Regional</th>\n",
              "      <th>Desat_cadastral</th>\n",
              "      <th>Mes_ano</th>\n",
              "    </tr>\n",
              "  </thead>\n",
              "  <tbody>\n",
              "    <tr>\n",
              "      <th>0</th>\n",
              "      <td>Ate seis meses</td>\n",
              "      <td>Quase nunca</td>\n",
              "      <td>04/06/1986</td>\n",
              "      <td>35</td>\n",
              "      <td>MASCULINO</td>\n",
              "      <td>NAO</td>\n",
              "      <td>SIM</td>\n",
              "      <td>Medio incompleto</td>\n",
              "      <td>Parda</td>\n",
              "      <td>Acima de 0.5 Salario Minimo</td>\n",
              "      <td>0.0</td>\n",
              "      <td>ENDERECO FORA AREA CRAS</td>\n",
              "      <td>NORDESTE</td>\n",
              "      <td>19 a 24 Meses</td>\n",
              "      <td>01/09/2021</td>\n",
              "    </tr>\n",
              "    <tr>\n",
              "      <th>1</th>\n",
              "      <td>Ate seis meses</td>\n",
              "      <td>Todo mes</td>\n",
              "      <td>01/03/1992</td>\n",
              "      <td>29</td>\n",
              "      <td>FEMININO</td>\n",
              "      <td>NAO</td>\n",
              "      <td>SIM</td>\n",
              "      <td>Sem instrucao</td>\n",
              "      <td>Preta</td>\n",
              "      <td>Entre R$178.01 ate 0.5 Salario Minimo</td>\n",
              "      <td>0.0</td>\n",
              "      <td>CRAS VILA ANTENA</td>\n",
              "      <td>OESTE</td>\n",
              "      <td>ate 12 Meses</td>\n",
              "      <td>01/09/2021</td>\n",
              "    </tr>\n",
              "    <tr>\n",
              "      <th>2</th>\n",
              "      <td>Ate seis meses</td>\n",
              "      <td>Todo dia</td>\n",
              "      <td>03/04/1958</td>\n",
              "      <td>63</td>\n",
              "      <td>FEMININO</td>\n",
              "      <td>NAO</td>\n",
              "      <td>SIM</td>\n",
              "      <td>Fundamental incompleto</td>\n",
              "      <td>Parda</td>\n",
              "      <td>Acima de 0.5 Salario Minimo</td>\n",
              "      <td>0.0</td>\n",
              "      <td>ENDERECO FORA AREA CRAS</td>\n",
              "      <td>CENTRO SUL</td>\n",
              "      <td>25 a 36 Meses</td>\n",
              "      <td>01/09/2021</td>\n",
              "    </tr>\n",
              "    <tr>\n",
              "      <th>3</th>\n",
              "      <td>Entre cinco e dez anos</td>\n",
              "      <td>Nunca</td>\n",
              "      <td>05/02/1965</td>\n",
              "      <td>56</td>\n",
              "      <td>MASCULINO</td>\n",
              "      <td>NAO</td>\n",
              "      <td>SIM</td>\n",
              "      <td>Fundamental incompleto</td>\n",
              "      <td>Parda</td>\n",
              "      <td>Ate R$89.00</td>\n",
              "      <td>0.0</td>\n",
              "      <td>ENDERECO FORA AREA CRAS</td>\n",
              "      <td>CENTRO SUL</td>\n",
              "      <td>19 a 24 Meses</td>\n",
              "      <td>01/09/2021</td>\n",
              "    </tr>\n",
              "    <tr>\n",
              "      <th>4</th>\n",
              "      <td>Mais de dez anos</td>\n",
              "      <td>Nunca</td>\n",
              "      <td>25/10/1959</td>\n",
              "      <td>61</td>\n",
              "      <td>MASCULINO</td>\n",
              "      <td>NAO</td>\n",
              "      <td>SIM</td>\n",
              "      <td>Sem instrucao</td>\n",
              "      <td>Parda</td>\n",
              "      <td>Ate R$89.00</td>\n",
              "      <td>0.0</td>\n",
              "      <td>ENDERECO FORA AREA CRAS</td>\n",
              "      <td>LESTE</td>\n",
              "      <td>19 a 24 Meses</td>\n",
              "      <td>01/09/2021</td>\n",
              "    </tr>\n",
              "  </tbody>\n",
              "</table>\n",
              "</div>\n",
              "      <button class=\"colab-df-convert\" onclick=\"convertToInteractive('df-f36ac114-d960-4785-a74f-2a043e0cda38')\"\n",
              "              title=\"Convert this dataframe to an interactive table.\"\n",
              "              style=\"display:none;\">\n",
              "        \n",
              "  <svg xmlns=\"http://www.w3.org/2000/svg\" height=\"24px\"viewBox=\"0 0 24 24\"\n",
              "       width=\"24px\">\n",
              "    <path d=\"M0 0h24v24H0V0z\" fill=\"none\"/>\n",
              "    <path d=\"M18.56 5.44l.94 2.06.94-2.06 2.06-.94-2.06-.94-.94-2.06-.94 2.06-2.06.94zm-11 1L8.5 8.5l.94-2.06 2.06-.94-2.06-.94L8.5 2.5l-.94 2.06-2.06.94zm10 10l.94 2.06.94-2.06 2.06-.94-2.06-.94-.94-2.06-.94 2.06-2.06.94z\"/><path d=\"M17.41 7.96l-1.37-1.37c-.4-.4-.92-.59-1.43-.59-.52 0-1.04.2-1.43.59L10.3 9.45l-7.72 7.72c-.78.78-.78 2.05 0 2.83L4 21.41c.39.39.9.59 1.41.59.51 0 1.02-.2 1.41-.59l7.78-7.78 2.81-2.81c.8-.78.8-2.07 0-2.86zM5.41 20L4 18.59l7.72-7.72 1.47 1.35L5.41 20z\"/>\n",
              "  </svg>\n",
              "      </button>\n",
              "      \n",
              "  <style>\n",
              "    .colab-df-container {\n",
              "      display:flex;\n",
              "      flex-wrap:wrap;\n",
              "      gap: 12px;\n",
              "    }\n",
              "\n",
              "    .colab-df-convert {\n",
              "      background-color: #E8F0FE;\n",
              "      border: none;\n",
              "      border-radius: 50%;\n",
              "      cursor: pointer;\n",
              "      display: none;\n",
              "      fill: #1967D2;\n",
              "      height: 32px;\n",
              "      padding: 0 0 0 0;\n",
              "      width: 32px;\n",
              "    }\n",
              "\n",
              "    .colab-df-convert:hover {\n",
              "      background-color: #E2EBFA;\n",
              "      box-shadow: 0px 1px 2px rgba(60, 64, 67, 0.3), 0px 1px 3px 1px rgba(60, 64, 67, 0.15);\n",
              "      fill: #174EA6;\n",
              "    }\n",
              "\n",
              "    [theme=dark] .colab-df-convert {\n",
              "      background-color: #3B4455;\n",
              "      fill: #D2E3FC;\n",
              "    }\n",
              "\n",
              "    [theme=dark] .colab-df-convert:hover {\n",
              "      background-color: #434B5C;\n",
              "      box-shadow: 0px 1px 3px 1px rgba(0, 0, 0, 0.15);\n",
              "      filter: drop-shadow(0px 1px 2px rgba(0, 0, 0, 0.3));\n",
              "      fill: #FFFFFF;\n",
              "    }\n",
              "  </style>\n",
              "\n",
              "      <script>\n",
              "        const buttonEl =\n",
              "          document.querySelector('#df-f36ac114-d960-4785-a74f-2a043e0cda38 button.colab-df-convert');\n",
              "        buttonEl.style.display =\n",
              "          google.colab.kernel.accessAllowed ? 'block' : 'none';\n",
              "\n",
              "        async function convertToInteractive(key) {\n",
              "          const element = document.querySelector('#df-f36ac114-d960-4785-a74f-2a043e0cda38');\n",
              "          const dataTable =\n",
              "            await google.colab.kernel.invokeFunction('convertToInteractive',\n",
              "                                                     [key], {});\n",
              "          if (!dataTable) return;\n",
              "\n",
              "          const docLinkHtml = 'Like what you see? Visit the ' +\n",
              "            '<a target=\"_blank\" href=https://colab.research.google.com/notebooks/data_table.ipynb>data table notebook</a>'\n",
              "            + ' to learn more about interactive tables.';\n",
              "          element.innerHTML = '';\n",
              "          dataTable['output_type'] = 'display_data';\n",
              "          await google.colab.output.renderOutput(dataTable, element);\n",
              "          const docLink = document.createElement('div');\n",
              "          docLink.innerHTML = docLinkHtml;\n",
              "          element.appendChild(docLink);\n",
              "        }\n",
              "      </script>\n",
              "    </div>\n",
              "  </div>\n",
              "  "
            ]
          },
          "metadata": {},
          "execution_count": 5
        }
      ]
    },
    {
      "cell_type": "markdown",
      "source": [
        "### **Regiões de Belo Horizonte**"
      ],
      "metadata": {
        "id": "hC1RYaEUhqeI"
      }
    },
    {
      "cell_type": "markdown",
      "source": [
        "![Mapa de BH](https://www.researchgate.net/profile/Leonardo-Freire-De-Mello/publication/257298339/figure/fig1/AS:669422431776769@1536614153075/Figura-22-Mapa-das-Regioes-Administrativas-da-cidade-de-Belo-Horizonte-9.ppm)"
      ],
      "metadata": {
        "id": "Zyr5ZDUSh-IK"
      }
    },
    {
      "cell_type": "markdown",
      "source": [
        "## **1) DESCRIÇÃO GERAL DA POPULAÇÃO**\n",
        "\n"
      ],
      "metadata": {
        "id": "qcCAIvhBETEW"
      }
    },
    {
      "cell_type": "markdown",
      "source": [
        "**1.1. Quantas pessoas morando na rua há em Belo Horizonte?**"
      ],
      "metadata": {
        "id": "KDPPcZ8BGgmB"
      }
    },
    {
      "cell_type": "code",
      "source": [
        "df['Contador']=1\n",
        "quant_moradores = sum(df.Contador)\n",
        "print('Em Belo Horizonte há',quant_moradores,'pessoas morando na rua')"
      ],
      "metadata": {
        "id": "M4GPt6I2FhWY",
        "colab": {
          "base_uri": "https://localhost:8080/"
        },
        "outputId": "d91a5a04-b56f-4832-ca60-397945d235aa"
      },
      "execution_count": null,
      "outputs": [
        {
          "output_type": "stream",
          "name": "stdout",
          "text": [
            "Em Belo Horizonte há 8659 pessoas morando na rua\n"
          ]
        }
      ]
    },
    {
      "cell_type": "markdown",
      "source": [
        "**1.2. Quais os bairros onde se alocam os moradores de rua?**"
      ],
      "metadata": {
        "id": "YoBz0in7FKWe"
      }
    },
    {
      "cell_type": "code",
      "source": [
        "# Consultamos a contagem de moradores de rua por bairro:\n",
        "df['Regional'].value_counts()"
      ],
      "metadata": {
        "id": "H8uTRnq_FMNi",
        "colab": {
          "base_uri": "https://localhost:8080/"
        },
        "outputId": "0affd8eb-90c0-4f61-ac06-5ddc27690e5c"
      },
      "execution_count": null,
      "outputs": [
        {
          "output_type": "execute_result",
          "data": {
            "text/plain": [
              "CENTRO SUL                       5079\n",
              "LESTE                            1120\n",
              "NORTE                             662\n",
              "NOROESTE                          588\n",
              "VENDA NOVA                        286\n",
              "OESTE                             251\n",
              "BARREIRO                          225\n",
              "NORDESTE                          214\n",
              "PAMPULHA                          175\n",
              "ENDERECO NAO GEORREFERENCIADO      59\n",
              "Name: Regional, dtype: int64"
            ]
          },
          "metadata": {},
          "execution_count": 7
        }
      ]
    },
    {
      "cell_type": "code",
      "source": [
        "df['Regional'].value_counts().plot(kind='bar');"
      ],
      "metadata": {
        "id": "qEsJVk0KHodX",
        "colab": {
          "base_uri": "https://localhost:8080/",
          "height": 446
        },
        "outputId": "68fdc474-3818-44e9-a1fd-d7520b3ceb6c"
      },
      "execution_count": null,
      "outputs": [
        {
          "output_type": "display_data",
          "data": {
            "text/plain": [
              "<Figure size 432x288 with 1 Axes>"
            ],
            "image/png": "[encoded data removed]"
          },
          "metadata": {
            "needs_background": "light"
          }
        }
      ]
    },
    {
      "cell_type": "markdown",
      "source": [
        "**1.3. Qual é o bairro que possui a maior quantidade?**"
      ],
      "metadata": {
        "id": "KKksvwffH0mp"
      }
    },
    {
      "cell_type": "code",
      "source": [
        "# Identificamos o bairro que apressenta a maior quantidade de moradores de rua:\n",
        "max_reg = (df['Regional'].value_counts()).max()\n",
        "\n",
        "# Consultamos a moda dos bairros para obter o atributo (no caso, o nome do bairro) que possui maior quantidade.\n",
        "bairro_reg = df['Regional'].mode()[0];\n",
        "\n",
        "print('O bairro com maior quantidade de moradores de rua, com',max_reg,'pessoas,', 'é:', bairro_reg)"
      ],
      "metadata": {
        "id": "FarGwQrgH72M",
        "colab": {
          "base_uri": "https://localhost:8080/"
        },
        "outputId": "33564d31-7b7f-4d77-d542-410e57a945a9"
      },
      "execution_count": null,
      "outputs": [
        {
          "output_type": "stream",
          "name": "stdout",
          "text": [
            "O bairro com maior quantidade de moradores de rua, com 5079 pessoas, é: CENTRO SUL\n"
          ]
        }
      ]
    },
    {
      "cell_type": "markdown",
      "source": [
        "**1.4. Qual porcentagem de moradores homens e qual de mulheres?**"
      ],
      "metadata": {
        "id": "FhO_vam9erYg"
      }
    },
    {
      "cell_type": "code",
      "source": [
        "df['Sexo'].value_counts()"
      ],
      "metadata": {
        "id": "mRqqPkAGaygL",
        "colab": {
          "base_uri": "https://localhost:8080/"
        },
        "outputId": "e0bc1283-36f6-4549-cae4-12d5c17c23b5"
      },
      "execution_count": null,
      "outputs": [
        {
          "output_type": "execute_result",
          "data": {
            "text/plain": [
              "MASCULINO    7755\n",
              "FEMININO      904\n",
              "Name: Sexo, dtype: int64"
            ]
          },
          "metadata": {},
          "execution_count": 10
        }
      ]
    },
    {
      "cell_type": "code",
      "source": [
        "mulheres = df[df['Sexo'] =='FEMININO'] # Conjunto da população feminina.\n",
        "homens = df[df['Sexo'] =='MASCULINO'] # Conjunto da população feminina.\n",
        "\n",
        "# Cálculo de porcentagem de mulheres (arredondando a duas casas)\n",
        "porc_fem = round((len(mulheres)/quant_moradores)*100,2) \n",
        "\n",
        "# Cálculo de porcentagem de homens (arredondando a duas casas)\n",
        "porc_masc = round((len(homens)/quant_moradores)*100,2)\n",
        "\n",
        "print('Do total do moradores de rua,', porc_fem, '% são mulheres e', porc_masc, '% são homens.')\n",
        "\n",
        "print('\\n', '\\n')\n",
        "\n",
        "df['Sexo'].value_counts().plot(kind='bar')"
      ],
      "metadata": {
        "id": "PXBwIAygeicV",
        "colab": {
          "base_uri": "https://localhost:8080/",
          "height": 402
        },
        "outputId": "ebee225a-6cb1-4dd3-a9ab-f717ffed168c"
      },
      "execution_count": null,
      "outputs": [
        {
          "output_type": "stream",
          "name": "stdout",
          "text": [
            "Do total do moradores de rua, 10.44 % são mulheres e 89.56 % são homens.\n",
            "\n",
            " \n",
            "\n"
          ]
        },
        {
          "output_type": "execute_result",
          "data": {
            "text/plain": [
              "<matplotlib.axes._subplots.AxesSubplot at 0x7ff7f2dc8e50>"
            ]
          },
          "metadata": {},
          "execution_count": 11
        },
        {
          "output_type": "display_data",
          "data": {
            "text/plain": [
              "<Figure size 432x288 with 1 Axes>"
            ],
            "image/png": "[encoded data removed]"
          },
          "metadata": {
            "needs_background": "light"
          }
        }
      ]
    },
    {
      "cell_type": "code",
      "source": [
        "legenda = ['Masculino', 'Feminino']\n",
        "valores_sexo = [porc_masc,porc_fem]\n",
        "cores_grafico = ['#99b8c1', '#ce3450']\n",
        "\n",
        "fig, ax = plt.subplots(figsize=(6, 20), subplot_kw=dict(aspect=\"equal\"))\n",
        "\n",
        "ax.pie(valores_sexo, autopct='%0.1f%%', pctdistance=1.15, colors=cores_grafico)\n",
        "\n",
        "ax.legend(labels=legenda, title=\"Gênero\", loc=\"center left\",bbox_to_anchor=(1.25, 0, 0.5, 1))\n",
        "\n",
        "ax.set_title(\"Gênero da população de rua\")\n",
        "\n",
        "plt.show()"
      ],
      "metadata": {
        "id": "Qugua4t3xQgT",
        "colab": {
          "base_uri": "https://localhost:8080/",
          "height": 382
        },
        "outputId": "3b924a71-091c-427c-ceae-324487c3634c"
      },
      "execution_count": null,
      "outputs": [
        {
          "output_type": "display_data",
          "data": {
            "text/plain": [
              "<Figure size 432x1440 with 1 Axes>"
            ],
            "image/png": "[encoded data removed]"
          },
          "metadata": {}
        }
      ]
    },
    {
      "cell_type": "markdown",
      "source": [
        "**1.5. Qual a população que fica fora da atuação do Centro de Referência de Assistencia Social (CRAS)?** <br>\n",
        "**1.6. Em quais regiões ficam alocados?**"
      ],
      "metadata": {
        "id": "ih1OH6laKIwN"
      }
    },
    {
      "cell_type": "code",
      "source": [
        "# Criamos a variável \"sem_CRAS\", que recohle os dados destas pessoas.\n",
        "sem_CRAS = df[df.CRAS != 'ENDERECO FORA AREA CRAS']\n",
        "qsem_CRAS = sem_CRAS.Regional.count()\n",
        "porc_semCRAS = ((qsem_CRAS/quant_moradores)*100).round(2) #Calculamos a porcentagem.\n",
        "\n",
        "print(qsem_CRAS, 'moradores de rua, que representam  ',porc_semCRAS,'%   do total, ficam por fora da area de atuação do CRAS.')\n",
        "\n",
        "print('\\n')\n",
        "\n",
        "print('Esses moradores, fora da area do CRAS, se alocam nas seguintes regiões:', '\\n')\n",
        "print(sem_CRAS.Regional.value_counts(), '\\n')\n",
        "sem_CRAS['Regional'].value_counts().plot(kind='bar');"
      ],
      "metadata": {
        "id": "wfva4LsVKJN7",
        "colab": {
          "base_uri": "https://localhost:8080/",
          "height": 741
        },
        "outputId": "5cafcc72-f7f8-4c85-9c15-33e251dc6ae3"
      },
      "execution_count": null,
      "outputs": [
        {
          "output_type": "stream",
          "name": "stdout",
          "text": [
            "1127 moradores de rua, que representam   13.02 %   do total, ficam por fora da area de atuação do CRAS.\n",
            "\n",
            "\n",
            "Esses moradores, fora da area do CRAS, se alocam nas seguintes regiões: \n",
            "\n",
            "NORTE                            644\n",
            "NOROESTE                         252\n",
            "ENDERECO NAO GEORREFERENCIADO     59\n",
            "VENDA NOVA                        37\n",
            "CENTRO SUL                        33\n",
            "LESTE                             25\n",
            "PAMPULHA                          22\n",
            "OESTE                             21\n",
            "NORDESTE                          18\n",
            "BARREIRO                          16\n",
            "Name: Regional, dtype: int64 \n",
            "\n"
          ]
        },
        {
          "output_type": "display_data",
          "data": {
            "text/plain": [
              "<Figure size 432x288 with 1 Axes>"
            ],
            "image/png": "[encoded data removed]"
          },
          "metadata": {
            "needs_background": "light"
          }
        }
      ]
    },
    {
      "cell_type": "markdown",
      "source": [
        "**1.7. Quais as porcentagens de pessoas segundo a cor da pele?**"
      ],
      "metadata": {
        "id": "ZI5mUF_m6Tj2"
      }
    },
    {
      "cell_type": "code",
      "source": [
        "print((df['Cor_raca'].value_counts(1))*100,'\\n')\n",
        "df.Cor_raca.hist()"
      ],
      "metadata": {
        "id": "sDzbgl4V7ibA",
        "colab": {
          "base_uri": "https://localhost:8080/",
          "height": 421
        },
        "outputId": "391f2eb9-7e8f-425b-dbba-97ebcc306b99"
      },
      "execution_count": null,
      "outputs": [
        {
          "output_type": "stream",
          "name": "stdout",
          "text": [
            "Parda            59.926088\n",
            "Preta            23.605497\n",
            "Branca           15.775494\n",
            "Amarela           0.438850\n",
            "Nao Informado     0.138584\n",
            "Indigena          0.115487\n",
            "Name: Cor_raca, dtype: float64 \n",
            "\n"
          ]
        },
        {
          "output_type": "execute_result",
          "data": {
            "text/plain": [
              "<matplotlib.axes._subplots.AxesSubplot at 0x7ff7f27e9250>"
            ]
          },
          "metadata": {},
          "execution_count": 14
        },
        {
          "output_type": "display_data",
          "data": {
            "text/plain": [
              "<Figure size 432x288 with 1 Axes>"
            ],
            "image/png": "[encoded data removed]"
          },
          "metadata": {
            "needs_background": "light"
          }
        }
      ]
    },
    {
      "cell_type": "markdown",
      "source": [
        "**1.8. Qual a distribuição de idades dos moradores de rua?**"
      ],
      "metadata": {
        "id": "shMJBqVU8sDS"
      }
    },
    {
      "cell_type": "code",
      "source": [
        "media_idade = round(df.Idade.mean(),2) # Cálculo da  média de idade\n",
        "mediana_idade = int(df.Idade.median()) # Cálculo da mediana\n",
        "max_idade = df.Idade.max() # Cálculo da idade do morador mais velho\n",
        "min_idade = df.Idade.min() # Cálculo da idade do morador mais novo\n",
        "\n",
        "print('A média de idade dos moradores de rua é de', media_idade, \" anos.\")\n",
        "print('A mediana é de ' , mediana_idade, 'anos. Ou seja, o 50% mais novo dos moradores de rua de BH tem menos de ',mediana_idade)\n",
        "print('O morador de rua mais novo de BH tem ',min_idade,'anos', 'e o mais velho', max_idade, 'anos.')\n"
      ],
      "metadata": {
        "colab": {
          "base_uri": "https://localhost:8080/"
        },
        "id": "xixEyhJS8vkZ",
        "outputId": "f9df342d-be9a-497e-f8bf-a347ab5a0be0"
      },
      "execution_count": null,
      "outputs": [
        {
          "output_type": "stream",
          "name": "stdout",
          "text": [
            "A média de idade dos moradores de rua é de 42.41  anos.\n",
            "A mediana é de  42 anos. Ou seja, o 50% mais novo dos moradores de rua de BH tem menos de  42\n",
            "O morador de rua mais novo de BH tem  1 anos e o mais velho 89 anos.\n"
          ]
        }
      ]
    },
    {
      "cell_type": "code",
      "source": [
        "# Agrupação e contagem das idades dos moradores por faixa etária e por sexo\n",
        "\n",
        "Idades = [0, 1, 13, 17, 29, 64, 90] # Lista dos extremos dos conjuntos da faixa etária\n",
        "labels_faixas = ['1) Bebês [0-2)','2) Crianças [2,13)','3) Adolescentes[13,18)', '4) Adultos jovens [18,30)', '5) Adultos[30-65)', '6) Idosos [65+)'] # Lista Labels Age\n",
        "df['Faixa_etaria'] = pd.cut(df.Idade, Idades, labels = labels_faixas,include_lowest = False).astype('object')"
      ],
      "metadata": {
        "id": "64PiQlYqpaH-"
      },
      "execution_count": null,
      "outputs": []
    },
    {
      "cell_type": "code",
      "source": [
        "# Definição de um dataframe segmentado para conhecer a faixa etária dos moradores.\n",
        "df_Genero_Idade = pd.DataFrame(df, columns = ['Sexo','Faixa_etaria','Contador'])\n",
        "\n",
        "# Agrupamento da quantidade de moradores por Gênero e Faixa Etária\n",
        "df_Genero_Idade_1 = df_Genero_Idade.groupby(by=['Sexo','Faixa_etaria'])['Contador'].sum().reset_index()\n",
        "\n",
        "\n",
        "# Realização um pivotamento da tabela para transformar a variável gênero em duas variáveis segmentadas pelo gênero\n",
        "df_Genero_Idade_2 = pd.pivot_table(df_Genero_Idade_1, values='Contador', index=['Faixa_etaria'] ,columns='Sexo', aggfunc= 'sum', fill_value = 0).reset_index()\n",
        "\n",
        "# Criar uma variável \"Total\" para saber a quantidade dos moradores em cada faixa etária, independente do gênero.\n",
        "df_Genero_Idade_2['Total'] = df_Genero_Idade_2['FEMININO'] + df_Genero_Idade_2['MASCULINO'] \n",
        "\n",
        "(print(\"Quadro Resumo sobre perfil etário e gênero da população de rua em BH\"))\n",
        "df_Genero_Idade_2.head(15)"
      ],
      "metadata": {
        "id": "xw1enbzSpkLf",
        "colab": {
          "base_uri": "https://localhost:8080/",
          "height": 255
        },
        "outputId": "ce435962-2243-4b08-82f4-7dcc3e73eb60"
      },
      "execution_count": null,
      "outputs": [
        {
          "output_type": "stream",
          "name": "stdout",
          "text": [
            "Quadro Resumo sobre perfil etário e gênero da população de rua em BH\n"
          ]
        },
        {
          "output_type": "execute_result",
          "data": {
            "text/plain": [
              "Sexo               Faixa_etaria  FEMININO  MASCULINO  Total\n",
              "0                1) Bebês [0-2)         1          0      1\n",
              "1            2) Crianças [2,13)        18         11     29\n",
              "2        3) Adolescentes[13,18)         3          4      7\n",
              "3     4) Adultos jovens [18,30)       159       1015   1174\n",
              "4             5) Adultos[30-65)       701       6479   7180\n",
              "5               6) Idosos [65+)        22        246    268"
            ],
            "text/html": [
              "\n",
              "  <div id=\"df-6df32133-a17e-4cb2-91e4-ed2cc0d0e31b\">\n",
              "    <div class=\"colab-df-container\">\n",
              "      <div>\n",
              "<style scoped>\n",
              "    .dataframe tbody tr th:only-of-type {\n",
              "        vertical-align: middle;\n",
              "    }\n",
              "\n",
              "    .dataframe tbody tr th {\n",
              "        vertical-align: top;\n",
              "    }\n",
              "\n",
              "    .dataframe thead th {\n",
              "        text-align: right;\n",
              "    }\n",
              "</style>\n",
              "<table border=\"1\" class=\"dataframe\">\n",
              "  <thead>\n",
              "    <tr style=\"text-align: right;\">\n",
              "      <th>Sexo</th>\n",
              "      <th>Faixa_etaria</th>\n",
              "      <th>FEMININO</th>\n",
              "      <th>MASCULINO</th>\n",
              "      <th>Total</th>\n",
              "    </tr>\n",
              "  </thead>\n",
              "  <tbody>\n",
              "    <tr>\n",
              "      <th>0</th>\n",
              "      <td>1) Bebês [0-2)</td>\n",
              "      <td>1</td>\n",
              "      <td>0</td>\n",
              "      <td>1</td>\n",
              "    </tr>\n",
              "    <tr>\n",
              "      <th>1</th>\n",
              "      <td>2) Crianças [2,13)</td>\n",
              "      <td>18</td>\n",
              "      <td>11</td>\n",
              "      <td>29</td>\n",
              "    </tr>\n",
              "    <tr>\n",
              "      <th>2</th>\n",
              "      <td>3) Adolescentes[13,18)</td>\n",
              "      <td>3</td>\n",
              "      <td>4</td>\n",
              "      <td>7</td>\n",
              "    </tr>\n",
              "    <tr>\n",
              "      <th>3</th>\n",
              "      <td>4) Adultos jovens [18,30)</td>\n",
              "      <td>159</td>\n",
              "      <td>1015</td>\n",
              "      <td>1174</td>\n",
              "    </tr>\n",
              "    <tr>\n",
              "      <th>4</th>\n",
              "      <td>5) Adultos[30-65)</td>\n",
              "      <td>701</td>\n",
              "      <td>6479</td>\n",
              "      <td>7180</td>\n",
              "    </tr>\n",
              "    <tr>\n",
              "      <th>5</th>\n",
              "      <td>6) Idosos [65+)</td>\n",
              "      <td>22</td>\n",
              "      <td>246</td>\n",
              "      <td>268</td>\n",
              "    </tr>\n",
              "  </tbody>\n",
              "</table>\n",
              "</div>\n",
              "      <button class=\"colab-df-convert\" onclick=\"convertToInteractive('df-6df32133-a17e-4cb2-91e4-ed2cc0d0e31b')\"\n",
              "              title=\"Convert this dataframe to an interactive table.\"\n",
              "              style=\"display:none;\">\n",
              "        \n",
              "  <svg xmlns=\"http://www.w3.org/2000/svg\" height=\"24px\"viewBox=\"0 0 24 24\"\n",
              "       width=\"24px\">\n",
              "    <path d=\"M0 0h24v24H0V0z\" fill=\"none\"/>\n",
              "    <path d=\"M18.56 5.44l.94 2.06.94-2.06 2.06-.94-2.06-.94-.94-2.06-.94 2.06-2.06.94zm-11 1L8.5 8.5l.94-2.06 2.06-.94-2.06-.94L8.5 2.5l-.94 2.06-2.06.94zm10 10l.94 2.06.94-2.06 2.06-.94-2.06-.94-.94-2.06-.94 2.06-2.06.94z\"/><path d=\"M17.41 7.96l-1.37-1.37c-.4-.4-.92-.59-1.43-.59-.52 0-1.04.2-1.43.59L10.3 9.45l-7.72 7.72c-.78.78-.78 2.05 0 2.83L4 21.41c.39.39.9.59 1.41.59.51 0 1.02-.2 1.41-.59l7.78-7.78 2.81-2.81c.8-.78.8-2.07 0-2.86zM5.41 20L4 18.59l7.72-7.72 1.47 1.35L5.41 20z\"/>\n",
              "  </svg>\n",
              "      </button>\n",
              "      \n",
              "  <style>\n",
              "    .colab-df-container {\n",
              "      display:flex;\n",
              "      flex-wrap:wrap;\n",
              "      gap: 12px;\n",
              "    }\n",
              "\n",
              "    .colab-df-convert {\n",
              "      background-color: #E8F0FE;\n",
              "      border: none;\n",
              "      border-radius: 50%;\n",
              "      cursor: pointer;\n",
              "      display: none;\n",
              "      fill: #1967D2;\n",
              "      height: 32px;\n",
              "      padding: 0 0 0 0;\n",
              "      width: 32px;\n",
              "    }\n",
              "\n",
              "    .colab-df-convert:hover {\n",
              "      background-color: #E2EBFA;\n",
              "      box-shadow: 0px 1px 2px rgba(60, 64, 67, 0.3), 0px 1px 3px 1px rgba(60, 64, 67, 0.15);\n",
              "      fill: #174EA6;\n",
              "    }\n",
              "\n",
              "    [theme=dark] .colab-df-convert {\n",
              "      background-color: #3B4455;\n",
              "      fill: #D2E3FC;\n",
              "    }\n",
              "\n",
              "    [theme=dark] .colab-df-convert:hover {\n",
              "      background-color: #434B5C;\n",
              "      box-shadow: 0px 1px 3px 1px rgba(0, 0, 0, 0.15);\n",
              "      filter: drop-shadow(0px 1px 2px rgba(0, 0, 0, 0.3));\n",
              "      fill: #FFFFFF;\n",
              "    }\n",
              "  </style>\n",
              "\n",
              "      <script>\n",
              "        const buttonEl =\n",
              "          document.querySelector('#df-6df32133-a17e-4cb2-91e4-ed2cc0d0e31b button.colab-df-convert');\n",
              "        buttonEl.style.display =\n",
              "          google.colab.kernel.accessAllowed ? 'block' : 'none';\n",
              "\n",
              "        async function convertToInteractive(key) {\n",
              "          const element = document.querySelector('#df-6df32133-a17e-4cb2-91e4-ed2cc0d0e31b');\n",
              "          const dataTable =\n",
              "            await google.colab.kernel.invokeFunction('convertToInteractive',\n",
              "                                                     [key], {});\n",
              "          if (!dataTable) return;\n",
              "\n",
              "          const docLinkHtml = 'Like what you see? Visit the ' +\n",
              "            '<a target=\"_blank\" href=https://colab.research.google.com/notebooks/data_table.ipynb>data table notebook</a>'\n",
              "            + ' to learn more about interactive tables.';\n",
              "          element.innerHTML = '';\n",
              "          dataTable['output_type'] = 'display_data';\n",
              "          await google.colab.output.renderOutput(dataTable, element);\n",
              "          const docLink = document.createElement('div');\n",
              "          docLink.innerHTML = docLinkHtml;\n",
              "          element.appendChild(docLink);\n",
              "        }\n",
              "      </script>\n",
              "    </div>\n",
              "  </div>\n",
              "  "
            ]
          },
          "metadata": {},
          "execution_count": 17
        }
      ]
    },
    {
      "cell_type": "markdown",
      "source": [
        "## **2) ALIMENTAÇÃO**"
      ],
      "metadata": {
        "id": "q4_RPcTINSVW"
      }
    },
    {
      "cell_type": "markdown",
      "source": [
        "**2.1. Quais, quantas são e onde se alocam as pessoas que estão em uma situação alimentária critica por falta de recursos?** <br>"
      ],
      "metadata": {
        "id": "f5mNrZx6Nvc6"
      }
    },
    {
      "cell_type": "code",
      "source": [
        "# Para facilitar a manipulação posterior, indexamos os atributos da categoría 'Renda_fam' com equivalentes numéricos,\n",
        "# conformandose uma escala desde o valor 0, que se corresponde com 'Ate R$89.00', até\n",
        "# o valor 3 que representa 'Acima de 0.5 Salario Mínimo'.\n",
        "\n",
        "renda_cat = OrdinalEncoder(categories=[['Ate R$89.00','Entre R$89.01 ate R$178.00', 'Entre R$178.01 ate 0.5 Salario Minimo', 'Acima de 0.5 Salario Minimo']])\n",
        "renda_cat.fit(df[['Renda_fam']])\n",
        "df['renda_cod'] = renda_cat.transform(df[['Renda_fam']])\n",
        "df['renda_cod'] = df['renda_cod'].astype(int)\n",
        "print(df[['renda_cod','Renda_fam']].value_counts().sort_index())"
      ],
      "metadata": {
        "id": "zWizuqdnOXFo",
        "colab": {
          "base_uri": "https://localhost:8080/"
        },
        "outputId": "dec258f2-107f-45b3-f84d-00fb4d7ae48b"
      },
      "execution_count": null,
      "outputs": [
        {
          "output_type": "stream",
          "name": "stdout",
          "text": [
            "renda_cod  Renda_fam                            \n",
            "0          Ate R$89.00                              8005\n",
            "1          Entre R$89.01 ate R$178.00                 71\n",
            "2          Entre R$178.01 ate 0.5 Salario Minimo     121\n",
            "3          Acima de 0.5 Salario Minimo               462\n",
            "dtype: int64\n"
          ]
        }
      ]
    },
    {
      "cell_type": "code",
      "source": [
        "# Criamos a variável \"min_renda\", que recolhe às pessoas que não recebem bolsa familia,\n",
        "# no mês anterior receberam uma remuneracao inferior e possuem uma renda familiar\n",
        "# per cápita inferiores a meio salário mínimo.\n",
        "\n",
        "min_renda = df[(df.Bolsa_familia =='NAO')&(df.renda_cod<2)&(df.Remuneracao_ant < 550)]\n",
        "print('Pessoas em situação crítica alimentária, classificadas por região:', '\\n')\n",
        "print(min_renda.Regional.value_counts())\n",
        "print('\\n','TOTAL-------------------------', min_renda.Regional.count())"
      ],
      "metadata": {
        "id": "xezj7aAJObOF",
        "colab": {
          "base_uri": "https://localhost:8080/"
        },
        "outputId": "cd9813b5-eab7-47d8-cbd7-2d83e42bb526"
      },
      "execution_count": null,
      "outputs": [
        {
          "output_type": "stream",
          "name": "stdout",
          "text": [
            "Pessoas em situação crítica alimentária, classificadas por região: \n",
            "\n",
            "CENTRO SUL                       922\n",
            "LESTE                            208\n",
            "NORTE                            133\n",
            "NOROESTE                         109\n",
            "OESTE                             46\n",
            "VENDA NOVA                        41\n",
            "BARREIRO                          40\n",
            "NORDESTE                          39\n",
            "PAMPULHA                          29\n",
            "ENDERECO NAO GEORREFERENCIADO      9\n",
            "Name: Regional, dtype: int64\n",
            "\n",
            " TOTAL------------------------- 1576\n"
          ]
        }
      ]
    },
    {
      "cell_type": "markdown",
      "source": [
        "## **3) INFÂNCIA**\n"
      ],
      "metadata": {
        "id": "QsB2J8bskESH"
      }
    },
    {
      "cell_type": "markdown",
      "source": [
        "**3.1. Quantas crianças e adolescentes moram na rua?**"
      ],
      "metadata": {
        "id": "KYokv5L_kQeE"
      }
    },
    {
      "cell_type": "code",
      "source": [
        "criancas= df[(df.Idade>=2)&(df.Idade <13)]\n",
        "adol = df[(df.Idade>= 13)&(df.Idade < 18)]\n",
        "print ('Nas ruas de Belo Horizonte moram', len(criancas), 'crianças e', len(adol), 'adolescentes.')"
      ],
      "metadata": {
        "id": "6nRHjNrZkdXI",
        "colab": {
          "base_uri": "https://localhost:8080/"
        },
        "outputId": "f0716fae-c9a2-4aff-98cb-aada57d502aa"
      },
      "execution_count": null,
      "outputs": [
        {
          "output_type": "stream",
          "name": "stdout",
          "text": [
            "Nas ruas de Belo Horizonte moram 29 crianças e 7 adolescentes.\n"
          ]
        }
      ]
    },
    {
      "cell_type": "markdown",
      "source": [
        "**3.2. Qual a região onde a maioria das crianças e adolescentes está?**"
      ],
      "metadata": {
        "id": "KerWyyjJkYyh"
      }
    },
    {
      "cell_type": "code",
      "source": [
        "menores = df[df.Idade < 18]\n",
        "print(menores['Regional'].value_counts())\n",
        "\n",
        "print('\\n', '\\n')\n",
        "\n",
        "menores['Regional'].value_counts().plot(kind='bar');"
      ],
      "metadata": {
        "id": "560B9aF5mKQh",
        "colab": {
          "base_uri": "https://localhost:8080/",
          "height": 672
        },
        "outputId": "7fa31db6-ee6e-47ba-f4f7-080d9faca289"
      },
      "execution_count": null,
      "outputs": [
        {
          "output_type": "stream",
          "name": "stdout",
          "text": [
            "NORTE                            14\n",
            "NORDESTE                          6\n",
            "LESTE                             4\n",
            "NOROESTE                          3\n",
            "ENDERECO NAO GEORREFERENCIADO     3\n",
            "VENDA NOVA                        2\n",
            "CENTRO SUL                        2\n",
            "OESTE                             2\n",
            "PAMPULHA                          1\n",
            "Name: Regional, dtype: int64\n",
            "\n",
            " \n",
            "\n"
          ]
        },
        {
          "output_type": "display_data",
          "data": {
            "text/plain": [
              "<Figure size 432x288 with 1 Axes>"
            ],
            "image/png": "[encoded data removed]"
          },
          "metadata": {
            "needs_background": "light"
          }
        }
      ]
    },
    {
      "cell_type": "code",
      "source": [
        "# Identificamos o bairro que apressenta a maior quantidade de crianças e adolescentes:\n",
        "max_men = (menores['Regional'].value_counts()).max()\n",
        "\n",
        "# Consultamos a moda dos bairros para obter o atributo (no caso, o nome do bairro) que possui maior quantidade.\n",
        "bairro_menores = menores['Regional'].mode()[0]\n",
        "\n",
        "print('O bairro com maior quantidade de menores de idade morando na rua, com um número de',max_men,'é:', bairro_menores)"
      ],
      "metadata": {
        "id": "cgHNxTg5SRsd",
        "colab": {
          "base_uri": "https://localhost:8080/"
        },
        "outputId": "32a17d00-6d9e-4be1-d140-b59c96653487"
      },
      "execution_count": null,
      "outputs": [
        {
          "output_type": "stream",
          "name": "stdout",
          "text": [
            "O bairro com maior quantidade de menores de idade morando na rua, com um número de 14 é: NORTE\n"
          ]
        }
      ]
    },
    {
      "cell_type": "markdown",
      "source": [
        "**3.3. Há crianças e adolescentes especialmente expostos e em situação de perigo por estarem só, sem contato com familiares?** <br>\n",
        "**Se sim, em quais bairros eles estão?**"
      ],
      "metadata": {
        "id": "ykdj-1ds4cie"
      }
    },
    {
      "cell_type": "code",
      "source": [
        "criancas_so = criancas[(criancas.Contato_parente != 'Todo dia')]\n",
        "print('Crianças sem companhia diária de adultos', '\\n')\n",
        "print(criancas_so.Regional.value_counts())\n",
        "print('\\n')\n",
        "print('--------------------------TOTAL',criancas_so.Regional.count())\n",
        "print('\\n')\n",
        "\n",
        "adol_so = adol[(adol.Contato_parente != 'Todo dia')]\n",
        "print('Adolescentes sem companhia diária de adultos', '\\n')\n",
        "print(adol_so.Regional.value_counts())\n",
        "print('\\n')\n",
        "print('--------TOTAL',adol_so.Regional.count())"
      ],
      "metadata": {
        "colab": {
          "base_uri": "https://localhost:8080/"
        },
        "id": "QWwZLlAZ2X0X",
        "outputId": "07ce509f-afce-46d4-b1e8-846eeb5bcdb1"
      },
      "execution_count": null,
      "outputs": [
        {
          "output_type": "stream",
          "name": "stdout",
          "text": [
            "Crianças sem companhia diária de adultos \n",
            "\n",
            "NORTE                            8\n",
            "NORDESTE                         4\n",
            "NOROESTE                         3\n",
            "ENDERECO NAO GEORREFERENCIADO    3\n",
            "LESTE                            2\n",
            "CENTRO SUL                       1\n",
            "VENDA NOVA                       1\n",
            "OESTE                            1\n",
            "Name: Regional, dtype: int64\n",
            "\n",
            "\n",
            "--------------------------TOTAL 23\n",
            "\n",
            "\n",
            "Adolescentes sem companhia diária de adultos \n",
            "\n",
            "NORDESTE      2\n",
            "VENDA NOVA    1\n",
            "Name: Regional, dtype: int64\n",
            "\n",
            "\n",
            "--------TOTAL 3\n"
          ]
        }
      ]
    },
    {
      "cell_type": "markdown",
      "source": [
        "## **4) SAÚDE**"
      ],
      "metadata": {
        "id": "K0t5II5FsFc6"
      }
    },
    {
      "cell_type": "markdown",
      "source": [
        "**4.1. Quais as porcentagens da população que podem precisar atenções pediátrica, clínica de adultos e geriátrica, respetivamente?**"
      ],
      "metadata": {
        "id": "C6XyV1Z-suL9"
      }
    },
    {
      "cell_type": "code",
      "source": [
        "porc_menores = round(len(menores)/quant_moradores,5)  #Porcentagem de menores\n",
        "\n",
        "adultos = df[(df.Idade>= 18)&(df.Idade < 65)]\n",
        "porc_adultos = round((len(adultos)/quant_moradores)*100,2)  #Porcentagem de adultos\n",
        "\n",
        "idosos = df[df.Idade>= 65]\n",
        "porc_idosos = round((len(idosos)/quant_moradores)*100,3)  #Porcentagem de idosos\n",
        "\n",
        "print('Há', len(menores),'menores que podem precisar atenção pediátrica, o que é',porc_menores,'% da população de rua.')\n",
        "print('Há', len(adultos),'pessoas que podem precisar atenção clínica de adulto, o que é',porc_adultos,'% da população de rua.')\n",
        "print('Há', len(idosos),'idosos que podem precisar atenção geriátrica, o que é',porc_idosos,'% da população de rua.')"
      ],
      "metadata": {
        "id": "UI-Krv4MszFq",
        "colab": {
          "base_uri": "https://localhost:8080/"
        },
        "outputId": "e5641439-1f86-4e81-d574-2f9cc0bf168a"
      },
      "execution_count": null,
      "outputs": [
        {
          "output_type": "stream",
          "name": "stdout",
          "text": [
            "Há 37 menores que podem precisar atenção pediátrica, o que é 0.00427 % da população de rua.\n",
            "Há 8354 pessoas que podem precisar atenção clínica de adulto, o que é 96.48 % da população de rua.\n",
            "Há 268 idosos que podem precisar atenção geriátrica, o que é 3.095 % da população de rua.\n"
          ]
        }
      ]
    },
    {
      "cell_type": "code",
      "source": [
        "# Identificamos os bairros que apressentam a maior quantidade de adultos e idosos, respetivamente:\n",
        "max_adult = (adultos['Regional'].value_counts()).max()\n",
        "max_idosos = (idosos['Regional'].value_counts()).max()\n",
        "\n",
        "# Consultamos as modas dos bairros para obter os atributos (no caso, o nomes dos bairro) que possuem as quantidades maiores.\n",
        "bairro_adult = adultos['Regional'].mode()[0]\n",
        "bairro_idosos = idosos['Regional'].mode()[0]\n",
        "\n",
        "print(' * O bairro com maior quantidade de adultos, com uma quantidade de',max_adult,'é:', bairro_adult)\n",
        "print('\\n')\n",
        "print(' * O bairro com maior quantidade de idosos, com uma quantidade de',max_idosos,'é:', bairro_idosos)"
      ],
      "metadata": {
        "id": "e5QfQTtmvyQr",
        "colab": {
          "base_uri": "https://localhost:8080/"
        },
        "outputId": "870d96a5-b58f-4697-8cbe-5af763cba768"
      },
      "execution_count": null,
      "outputs": [
        {
          "output_type": "stream",
          "name": "stdout",
          "text": [
            " * O bairro com maior quantidade de adultos, com uma quantidade de 4911 é: CENTRO SUL\n",
            "\n",
            "\n",
            " * O bairro com maior quantidade de idosos, com uma quantidade de 166 é: CENTRO SUL\n"
          ]
        }
      ]
    },
    {
      "cell_type": "markdown",
      "source": [
        "**4.2. Qual a quantidade de mulheres que precisa asistencia em higiene menstrual?**"
      ],
      "metadata": {
        "id": "U_5WhFTq-7qT"
      }
    },
    {
      "cell_type": "code",
      "source": [
        "# Limitamos o subconjunto da população feminina que está dentro da faixa etária da menstruação, e fazemos a contagem.\n",
        "mulh_mens = mulheres[(mulheres.Idade>=11)&(mulheres.Idade<55)]\n",
        "\n",
        "print('São', len(mulh_mens), 'as mulheres que precisam atenção em higiene menstrual')"
      ],
      "metadata": {
        "colab": {
          "base_uri": "https://localhost:8080/"
        },
        "id": "BPmKdHFp-2fX",
        "outputId": "6d3afbab-668f-443b-8ac4-ee80ee19cc63"
      },
      "execution_count": null,
      "outputs": [
        {
          "output_type": "stream",
          "name": "stdout",
          "text": [
            "São 769 as mulheres que precisam atenção em higiene menstrual\n"
          ]
        }
      ]
    },
    {
      "cell_type": "markdown",
      "source": [
        "**4.3. Em quais bairros estão alocadas e quais os CRAS georreferenciados para gerenciar a atenção? <br>\n",
        "4.4. Onde estão as mulheres que precisam dessa atenção mas que ficam fora da área de atuação de CRAIS?**"
      ],
      "metadata": {
        "id": "MJvDvTBMeX1M"
      }
    },
    {
      "cell_type": "code",
      "source": [
        "mulh_mens.Regional.value_counts()"
      ],
      "metadata": {
        "id": "OSbrntNYgdbT",
        "colab": {
          "base_uri": "https://localhost:8080/"
        },
        "outputId": "5d989424-4724-4204-f08c-9bdad6f48b7c"
      },
      "execution_count": null,
      "outputs": [
        {
          "output_type": "execute_result",
          "data": {
            "text/plain": [
              "CENTRO SUL                       393\n",
              "NORTE                             87\n",
              "NOROESTE                          73\n",
              "LESTE                             67\n",
              "NORDESTE                          35\n",
              "PAMPULHA                          31\n",
              "VENDA NOVA                        29\n",
              "OESTE                             27\n",
              "BARREIRO                          19\n",
              "ENDERECO NAO GEORREFERENCIADO      8\n",
              "Name: Regional, dtype: int64"
            ]
          },
          "metadata": {},
          "execution_count": 27
        }
      ]
    },
    {
      "cell_type": "code",
      "source": [
        "mulh_mens.CRAS.value_counts()"
      ],
      "metadata": {
        "id": "jGJAwRJtgwTj",
        "colab": {
          "base_uri": "https://localhost:8080/"
        },
        "outputId": "9411e23b-0ab5-4aff-97d9-366c127df556"
      },
      "execution_count": null,
      "outputs": [
        {
          "output_type": "execute_result",
          "data": {
            "text/plain": [
              "ENDERECO FORA AREA CRAS                               614\n",
              "CRAS PROVIDENCIA                                       61\n",
              "CRAS VILA SENHOR DOS PASSOS                            32\n",
              "CRAS VILA BIQUINHAS                                    20\n",
              "ENDERECO NAO GEORREFERENCIADO                           8\n",
              "CRAS PETROPOLIS                                         3\n",
              "CRAS MANTIQUEIRA                                        2\n",
              "CRAS ARTHUR DE SA   UNIAO                               2\n",
              "CRAS GRANJA DE FREITAS                                  2\n",
              "CRAS HAVAI VENTOSA                                      2\n",
              "CRAS TAQUARIL                                           2\n",
              "CRAS MORRO DAS PEDRAS   GRACA SABOIA                    2\n",
              "CRAS CALIFORNIA                                         2\n",
              "CRAS JARDIM FELICIDADE                                  2\n",
              "CRAS NOVO OURO PRETO                                    2\n",
              "CRAS VILA MARCOLA                                       1\n",
              "CRAS NOVO AARAO REIS   BRASILINA MARIA DE OLIVEIRA      1\n",
              "CRAS VILA MARIA                                         1\n",
              "CRAS SANTA ROSA                                         1\n",
              "CRAS VILA SANTA RITA DE CASSIA                          1\n",
              "CRAS VILA ANTENA                                        1\n",
              "CRAS VILA COQUEIRAL                                     1\n",
              "CRAS VILA NOSSA SENHORA DE FATIMA                       1\n",
              "CRAS VILA CEMIG                                         1\n",
              "CRAS LAGOA                                              1\n",
              "CRAS VILA SAO JOSE                                      1\n",
              "CRAS CONJUNTO PAULO VI                                  1\n",
              "CRAS CONFISCO                                           1\n",
              "Name: CRAS, dtype: int64"
            ]
          },
          "metadata": {},
          "execution_count": 28
        }
      ]
    },
    {
      "cell_type": "code",
      "source": [
        "cras_fora = mulh_mens[(mulh_mens.CRAS == 'ENDERECO FORA AREA CRAS')]\n",
        "cras_fora['Regional'].value_counts()"
      ],
      "metadata": {
        "id": "1oIGzO0-fYJO",
        "colab": {
          "base_uri": "https://localhost:8080/"
        },
        "outputId": "3a032209-375e-49e0-b101-edffd6c3a62b"
      },
      "execution_count": null,
      "outputs": [
        {
          "output_type": "execute_result",
          "data": {
            "text/plain": [
              "CENTRO SUL    390\n",
              "LESTE          63\n",
              "NOROESTE       38\n",
              "NORDESTE       31\n",
              "PAMPULHA       26\n",
              "VENDA NOVA     26\n",
              "OESTE          22\n",
              "BARREIRO       15\n",
              "NORTE           3\n",
              "Name: Regional, dtype: int64"
            ]
          },
          "metadata": {},
          "execution_count": 29
        }
      ]
    },
    {
      "cell_type": "code",
      "source": [
        "cras_dentro = mulh_mens[(mulh_mens.CRAS != 'ENDERECO FORA AREA CRAS')]\n",
        "cras_dentro['Regional'].value_counts()"
      ],
      "metadata": {
        "id": "pmWRxGCoV6oV",
        "colab": {
          "base_uri": "https://localhost:8080/"
        },
        "outputId": "fdba1ecf-9371-4704-aa9e-7044590ff8cd"
      },
      "execution_count": null,
      "outputs": [
        {
          "output_type": "execute_result",
          "data": {
            "text/plain": [
              "NORTE                            84\n",
              "NOROESTE                         35\n",
              "ENDERECO NAO GEORREFERENCIADO     8\n",
              "OESTE                             5\n",
              "PAMPULHA                          5\n",
              "NORDESTE                          4\n",
              "BARREIRO                          4\n",
              "LESTE                             4\n",
              "VENDA NOVA                        3\n",
              "CENTRO SUL                        3\n",
              "Name: Regional, dtype: int64"
            ]
          },
          "metadata": {},
          "execution_count": 30
        }
      ]
    },
    {
      "cell_type": "code",
      "source": [
        "medm = int(mulh_mens.Idade.median())\n",
        "print('O 50% de mulheres mais novas que precisam atenção em higiene menstrual tem entre 11 e',medm,'anos')\n",
        "print('O 50% de mulheres mais velhas que precisam atenção em higiene menstrual tem entre',medm,'e 55 anos')\n",
        "print('\\n','\\n')\n",
        "\n",
        "mulh_mens.Idade.hist();"
      ],
      "metadata": {
        "colab": {
          "base_uri": "https://localhost:8080/",
          "height": 352
        },
        "id": "k61sOxCAT-Zp",
        "outputId": "30e79a08-2aa4-4dea-846e-372ea9f65be7"
      },
      "execution_count": null,
      "outputs": [
        {
          "output_type": "stream",
          "name": "stdout",
          "text": [
            "O 50% de mulheres mais novas que precisam atenção em higiene menstrual tem entre 11 e 39 anos\n",
            "O 50% de mulheres mais velhas que precisam atenção em higiene menstrual tem entre 39 e 55 anos\n",
            "\n",
            " \n",
            "\n"
          ]
        },
        {
          "output_type": "display_data",
          "data": {
            "text/plain": [
              "<Figure size 432x288 with 1 Axes>"
            ],
            "image/png": "[encoded data removed]"
          },
          "metadata": {
            "needs_background": "light"
          }
        }
      ]
    },
    {
      "cell_type": "code",
      "source": [
        "mulh_mens['CRAS'].value_counts().plot(kind='bar');"
      ],
      "metadata": {
        "colab": {
          "base_uri": "https://localhost:8080/",
          "height": 541
        },
        "id": "T0OR4WfieJUW",
        "outputId": "d3847cdc-ff0d-428c-f689-0f5e4f6234ab"
      },
      "execution_count": null,
      "outputs": [
        {
          "output_type": "display_data",
          "data": {
            "text/plain": [
              "<Figure size 432x288 with 1 Axes>"
            ],
            "image/png": "[encoded data removed]"
          },
          "metadata": {
            "needs_background": "light"
          }
        }
      ]
    },
    {
      "cell_type": "markdown",
      "source": [
        "## **5) EDUCAÇÃO E FORMAÇÃO PARA O TRABALHO**"
      ],
      "metadata": {
        "id": "b-vyxGJHTsT1"
      }
    },
    {
      "cell_type": "markdown",
      "source": [
        "**5.1. Qual o grua de educação da população?**"
      ],
      "metadata": {
        "id": "lieMwJWtcncS"
      }
    },
    {
      "cell_type": "code",
      "source": [
        "instr_cat = OrdinalEncoder(categories=[['Nao Informado', 'Sem instrucao','Fundamental incompleto', 'Fundamental completo', 'Medio incompleto', 'Medio completo', 'Superior incompleto ou mais']])\n",
        "instr_cat.fit(df[['Grau_instrucao']])\n",
        "df['grau_cod'] = instr_cat.transform(df[['Grau_instrucao']])\n",
        "df['grau_cod'] = df['grau_cod']-1\n",
        "\n",
        "print(df[['grau_cod','Grau_instrucao']].value_counts())\n",
        "print('\\n')\n",
        "df['grau_cod'].hist();"
      ],
      "metadata": {
        "colab": {
          "base_uri": "https://localhost:8080/",
          "height": 456
        },
        "id": "pa9_rEHFc2je",
        "outputId": "2788dab5-3ef9-46bc-e35b-1556e3bf905f"
      },
      "execution_count": null,
      "outputs": [
        {
          "output_type": "stream",
          "name": "stdout",
          "text": [
            "grau_cod  Grau_instrucao             \n",
            " 1.0      Fundamental incompleto         4482\n",
            " 4.0      Medio completo                 1282\n",
            " 2.0      Fundamental completo           1246\n",
            " 3.0      Medio incompleto                888\n",
            " 0.0      Sem instrucao                   649\n",
            " 5.0      Superior incompleto ou mais     102\n",
            "-1.0      Nao Informado                    10\n",
            "dtype: int64\n",
            "\n",
            "\n"
          ]
        },
        {
          "output_type": "display_data",
          "data": {
            "text/plain": [
              "<Figure size 432x288 with 1 Axes>"
            ],
            "image/png": "[encoded data removed]"
          },
          "metadata": {
            "needs_background": "light"
          }
        }
      ]
    },
    {
      "cell_type": "markdown",
      "source": [
        "**5.2. Em qual região do município está alocada a maior quantidade de pessoas que tem idade para trabalhar?**\n"
      ],
      "metadata": {
        "id": "j0ZM-TLhcVnl"
      }
    },
    {
      "cell_type": "code",
      "source": [
        "trabalhadores = df[(df.Idade >= 18)&(df.Idade < 65)]\n",
        "print('População de rua em idade de trabalhar', '\\n','\\n', 'REGIÃO                       QUANTIDADE', '\\n')\n",
        "print(trabalhadores.Regional.value_counts())\n",
        "print('Total----------------------------',trabalhadores.Idade.count())\n",
        "\n",
        "print('\\n')\n",
        "\n",
        "print('REGIÃO                       PORCENTAGEM', '\\n')\n",
        "print(((trabalhadores.Regional.value_counts(1))*100).round(2))\n",
        "\n",
        "# Identificamos o bairro que apressenta a maior quantidade de moradores de rua em idade de trabalhar:\n",
        "max_trab = (trabalhadores['Regional'].value_counts()).max()\n",
        "\n",
        "# Consultamos a moda dos bairros para obter o atributo (no caso, o nome do bairro) que possui maior quantidade.\n",
        "bairro_trab = trabalhadores.Regional.mode()[0]\n",
        "\n",
        "print('\\n')\n",
        "print('O bairro com maior quantidade de moradores de rua em idade de trabalhar, com',max_trab,'pessoas,', 'é:', bairro_trab)"
      ],
      "metadata": {
        "colab": {
          "base_uri": "https://localhost:8080/"
        },
        "id": "JZYaJ4YWaUNy",
        "outputId": "97700ebc-3dfe-4ea6-8a3c-73ee26c01700"
      },
      "execution_count": null,
      "outputs": [
        {
          "output_type": "stream",
          "name": "stdout",
          "text": [
            "População de rua em idade de trabalhar \n",
            " \n",
            " REGIÃO                       QUANTIDADE \n",
            "\n",
            "CENTRO SUL                       4911\n",
            "LESTE                            1082\n",
            "NORTE                             634\n",
            "NOROESTE                          566\n",
            "VENDA NOVA                        278\n",
            "OESTE                             236\n",
            "BARREIRO                          222\n",
            "NORDESTE                          200\n",
            "PAMPULHA                          171\n",
            "ENDERECO NAO GEORREFERENCIADO      54\n",
            "Name: Regional, dtype: int64\n",
            "Total---------------------------- 8354\n",
            "\n",
            "\n",
            "REGIÃO                       PORCENTAGEM \n",
            "\n",
            "CENTRO SUL                       58.79\n",
            "LESTE                            12.95\n",
            "NORTE                             7.59\n",
            "NOROESTE                          6.78\n",
            "VENDA NOVA                        3.33\n",
            "OESTE                             2.82\n",
            "BARREIRO                          2.66\n",
            "NORDESTE                          2.39\n",
            "PAMPULHA                          2.05\n",
            "ENDERECO NAO GEORREFERENCIADO     0.65\n",
            "Name: Regional, dtype: float64\n",
            "\n",
            "\n",
            "O bairro com maior quantidade de moradores de rua em idade de trabalhar, com 4911 pessoas, é: CENTRO SUL\n"
          ]
        }
      ]
    },
    {
      "cell_type": "markdown",
      "source": [
        "## **6) CONCLUSÕES**"
      ],
      "metadata": {
        "id": "rNF0BaYEYd7f"
      }
    },
    {
      "cell_type": "markdown",
      "source": [
        "*DESCRIÇÃO GERAL E ALIMENTAÇÃO*<br>\n",
        ">Como vimos na descrição geral, a população de rua está localizada maioritariamente na zona Centro Sul, motivo pelo qual os contatos com igrejas, ONGs e outras associações que trabalhem servindo estas pessoas deverão se procurar nessa zona.<br>\n",
        "\n",
        ">Destacamos que existem 1574 pessoas em situação econômica crítica, ou seja, carentes de bolsa família e com rendas inferiores a meio salário básico.<br><br>\n",
        "\n",
        "*INFÂNCIA*\n",
        ">Embora se tenha visto que maioria da população que mora nas ruas se localiza na região Centro Sul, é importante destacar que a maioria das crianças estão na região Norte.<br>\n",
        "\n",
        ">Especial atenção merece o fator de que tem 23 menores de idade em risco, morando na rua sem companhia de adultos e expostos aos riscos que isso implica. A maioria deles se encontra na região Norte, porém esta análise faz um chamado de atenção às restantes, alocadas em outras regiões, segundo foi detalhado no ponto 3.3.<br>\n",
        "\n",
        "*SAÚDE*<br>\n",
        ">Tem 37 crianças e 268 idosos que podem precisar atenção pediátrica e geriatria, respetivamente. Tendo isso em consideração, se destaca que a população de rua pode precisar, maioritariamente, atenção clínica de adultos, tendo nas ruas 8354 adultos.<br>\n",
        "\n",
        ">No marco da campanha de saúde menstrual, destacamos que tem 769 mulheres morando na rua dentro da faixa etária em que podem precisar atenção de higiene menstrual.\n",
        "\n",
        "*EDUCAÇÃO E FORMAÇÃO PARA O TRABALHO* <br>\n",
        "> O grau de instrução da população foi detalhado no ponto 5.1, tendo a maioria das pessoas o ensino fundamental incompleto.<br>\n",
        "\n",
        "> As pessoas que tem idade para trabalhar são 8354 e, mais uma vez, a maioria (4911) se localizam na região Centro Sul.<br>\n",
        "\n",
        ">Se chama a atenção sobre estas duas últimas informações aos departamentos da prefeitura responsáveis pela educação de menores e adultos. Também a aqueles responsáveis pela formação para o trabalho que possam gerar planos de capacitação.\n"
      ],
      "metadata": {
        "id": "WG1GdfseghnZ"
      }
    }
  ]
}